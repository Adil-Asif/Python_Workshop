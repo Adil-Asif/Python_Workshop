{
  "nbformat": 4,
  "nbformat_minor": 0,
  "metadata": {
    "colab": {
      "name": "linear regression.ipynb",
      "provenance": [],
      "collapsed_sections": []
    },
    "kernelspec": {
      "name": "python3",
      "display_name": "Python 3"
    }
  },
  "cells": [
    {
      "cell_type": "code",
      "metadata": {
        "id": "mbzsJHf8l7fj",
        "colab_type": "code",
        "colab": {}
      },
      "source": [
        "import numpy as np\n",
        "import matplotlib.pyplot as plt\n",
        "import pandas as pd \n",
        "from sklearn.datasets import load_boston\n",
        "%matplotlib inline\n"
      ],
      "execution_count": 0,
      "outputs": []
    },
    {
      "cell_type": "code",
      "metadata": {
        "id": "9MykWdh9mtz9",
        "colab_type": "code",
        "colab": {}
      },
      "source": [
        "boston=load_boston()"
      ],
      "execution_count": 0,
      "outputs": []
    },
    {
      "cell_type": "code",
      "metadata": {
        "id": "NHDZ-85ImyWS",
        "colab_type": "code",
        "outputId": "ad900ed7-81ea-4b38-bbf4-8e0e68981458",
        "colab": {
          "base_uri": "https://localhost:8080/",
          "height": 934
        }
      },
      "source": [
        "print(boston.DESCR)"
      ],
      "execution_count": 0,
      "outputs": [
        {
          "output_type": "stream",
          "text": [
            ".. _boston_dataset:\n",
            "\n",
            "Boston house prices dataset\n",
            "---------------------------\n",
            "\n",
            "**Data Set Characteristics:**  \n",
            "\n",
            "    :Number of Instances: 506 \n",
            "\n",
            "    :Number of Attributes: 13 numeric/categorical predictive. Median Value (attribute 14) is usually the target.\n",
            "\n",
            "    :Attribute Information (in order):\n",
            "        - CRIM     per capita crime rate by town\n",
            "        - ZN       proportion of residential land zoned for lots over 25,000 sq.ft.\n",
            "        - INDUS    proportion of non-retail business acres per town\n",
            "        - CHAS     Charles River dummy variable (= 1 if tract bounds river; 0 otherwise)\n",
            "        - NOX      nitric oxides concentration (parts per 10 million)\n",
            "        - RM       average number of rooms per dwelling\n",
            "        - AGE      proportion of owner-occupied units built prior to 1940\n",
            "        - DIS      weighted distances to five Boston employment centres\n",
            "        - RAD      index of accessibility to radial highways\n",
            "        - TAX      full-value property-tax rate per $10,000\n",
            "        - PTRATIO  pupil-teacher ratio by town\n",
            "        - B        1000(Bk - 0.63)^2 where Bk is the proportion of blacks by town\n",
            "        - LSTAT    % lower status of the population\n",
            "        - MEDV     Median value of owner-occupied homes in $1000's\n",
            "\n",
            "    :Missing Attribute Values: None\n",
            "\n",
            "    :Creator: Harrison, D. and Rubinfeld, D.L.\n",
            "\n",
            "This is a copy of UCI ML housing dataset.\n",
            "https://archive.ics.uci.edu/ml/machine-learning-databases/housing/\n",
            "\n",
            "\n",
            "This dataset was taken from the StatLib library which is maintained at Carnegie Mellon University.\n",
            "\n",
            "The Boston house-price data of Harrison, D. and Rubinfeld, D.L. 'Hedonic\n",
            "prices and the demand for clean air', J. Environ. Economics & Management,\n",
            "vol.5, 81-102, 1978.   Used in Belsley, Kuh & Welsch, 'Regression diagnostics\n",
            "...', Wiley, 1980.   N.B. Various transformations are used in the table on\n",
            "pages 244-261 of the latter.\n",
            "\n",
            "The Boston house-price data has been used in many machine learning papers that address regression\n",
            "problems.   \n",
            "     \n",
            ".. topic:: References\n",
            "\n",
            "   - Belsley, Kuh & Welsch, 'Regression diagnostics: Identifying Influential Data and Sources of Collinearity', Wiley, 1980. 244-261.\n",
            "   - Quinlan,R. (1993). Combining Instance-Based and Model-Based Learning. In Proceedings on the Tenth International Conference of Machine Learning, 236-243, University of Massachusetts, Amherst. Morgan Kaufmann.\n",
            "\n"
          ],
          "name": "stdout"
        }
      ]
    },
    {
      "cell_type": "code",
      "metadata": {
        "id": "nV7HsHxsngt1",
        "colab_type": "code",
        "colab": {}
      },
      "source": [
        "features=pd.DataFrame(boston.data,columns=boston.feature_names)\n",
        "target=pd.DataFrame(boston.target, columns=['Target'])\n",
        "data=pd.concat([features,target],axis=1)"
      ],
      "execution_count": 0,
      "outputs": []
    },
    {
      "cell_type": "code",
      "metadata": {
        "id": "stBT-X12pKYR",
        "colab_type": "code",
        "outputId": "be628058-76dd-466c-d446-fa4118c95b12",
        "colab": {
          "base_uri": "https://localhost:8080/",
          "height": 281
        }
      },
      "source": [
        "data2=data.corr('pearson')\n",
        "abs(data2.loc['Target']).sort_values(ascending=False)"
      ],
      "execution_count": 0,
      "outputs": [
        {
          "output_type": "execute_result",
          "data": {
            "text/plain": [
              "Target     1.000000\n",
              "LSTAT      0.737663\n",
              "RM         0.695360\n",
              "PTRATIO    0.507787\n",
              "INDUS      0.483725\n",
              "TAX        0.468536\n",
              "NOX        0.427321\n",
              "CRIM       0.388305\n",
              "RAD        0.381626\n",
              "AGE        0.376955\n",
              "ZN         0.360445\n",
              "B          0.333461\n",
              "DIS        0.249929\n",
              "CHAS       0.175260\n",
              "Name: Target, dtype: float64"
            ]
          },
          "metadata": {
            "tags": []
          },
          "execution_count": 5
        }
      ]
    },
    {
      "cell_type": "code",
      "metadata": {
        "id": "PGO8lrdFq25J",
        "colab_type": "code",
        "colab": {}
      },
      "source": [
        "X=data['LSTAT']\n",
        "Y=data['Target']"
      ],
      "execution_count": 0,
      "outputs": []
    },
    {
      "cell_type": "code",
      "metadata": {
        "id": "CdF8kNIwq_fp",
        "colab_type": "code",
        "colab": {}
      },
      "source": [
        "X=np.array(X/X.mean())\n",
        "Y=np.array(Y/Y.mean())"
      ],
      "execution_count": 0,
      "outputs": []
    },
    {
      "cell_type": "code",
      "metadata": {
        "id": "HWO2KvgnrSo_",
        "colab_type": "code",
        "colab": {}
      },
      "source": [
        "n=int(0.8*len(X))\n",
        "\n",
        "\n",
        "x_train=X[:n]\n",
        "y_train=Y[:n]\n",
        "x_test=X[n:]\n",
        "y_test=Y[n:]"
      ],
      "execution_count": 0,
      "outputs": []
    },
    {
      "cell_type": "code",
      "metadata": {
        "id": "5P5Opa42sJpr",
        "colab_type": "code",
        "outputId": "b1cb2bc1-4fb0-4ef2-b1ea-e14ea56f0e63",
        "colab": {
          "base_uri": "https://localhost:8080/",
          "height": 282
        }
      },
      "source": [
        "plt.plot(x_train,y_train,'g.')"
      ],
      "execution_count": 0,
      "outputs": [
        {
          "output_type": "execute_result",
          "data": {
            "text/plain": [
              "[<matplotlib.lines.Line2D at 0x7f38a9a94470>]"
            ]
          },
          "metadata": {
            "tags": []
          },
          "execution_count": 9
        },
        {
          "output_type": "display_data",
          "data": {
            "image/png": "[encoded data removed]",
            "text/plain": [
              "<Figure size 432x288 with 1 Axes>"
            ]
          },
          "metadata": {
            "tags": [],
            "needs_background": "light"
          }
        }
      ]
    },
    {
      "cell_type": "code",
      "metadata": {
        "id": "l8BYeMj0tBYH",
        "colab_type": "code",
        "outputId": "42b64c3e-2805-4b5e-aa45-96ac449503c2",
        "colab": {
          "base_uri": "https://localhost:8080/",
          "height": 282
        }
      },
      "source": [
        "plt.plot(x_test,y_test,'b.')"
      ],
      "execution_count": 0,
      "outputs": [
        {
          "output_type": "execute_result",
          "data": {
            "text/plain": [
              "[<matplotlib.lines.Line2D at 0x7f38a956e828>]"
            ]
          },
          "metadata": {
            "tags": []
          },
          "execution_count": 10
        },
        {
          "output_type": "display_data",
          "data": {
            "image/png": "[encoded data removed]",
            "text/plain": [
              "<Figure size 432x288 with 1 Axes>"
            ]
          },
          "metadata": {
            "tags": [],
            "needs_background": "light"
          }
        }
      ]
    },
    {
      "cell_type": "code",
      "metadata": {
        "id": "5qHzkfL3tmHn",
        "colab_type": "code",
        "colab": {}
      },
      "source": [
        "def hypothesis(a,b,x):\n",
        "  return a*x + b\n"
      ],
      "execution_count": 0,
      "outputs": []
    },
    {
      "cell_type": "code",
      "metadata": {
        "id": "wPMre5v21dre",
        "colab_type": "code",
        "colab": {}
      },
      "source": [
        "def error(a,b,x,y):\n",
        "  e=0\n",
        "  m=len(y)\n",
        "  for i in range(m):\n",
        "    e+=np.power((hypothesis(a,b,x[i])-y[i]),2)\n",
        "\n",
        "  return (1/(2*m))*e"
      ],
      "execution_count": 0,
      "outputs": []
    },
    {
      "cell_type": "code",
      "metadata": {
        "id": "7blpzzKL2FYp",
        "colab_type": "code",
        "colab": {}
      },
      "source": [
        "def step_gradient(a,b,x,y,learning_rate):\n",
        " grad_a=0\n",
        " grad_b=0\n",
        " m=len(x)\n",
        " for i in range(m):\n",
        "   grad_a +=1/m * (hypothesis(a,b,x[i]-y[i])*x[i])\n",
        "   grad_b +=1/m * (hypothesis(a,b,x[i]-y[i]))\n",
        " a=a-(grad_a * learning_rate)\n",
        " b=b-(grad_b * learning_rate)\n",
        "\n",
        " return a,b\n",
        "\n",
        "   "
      ],
      "execution_count": 0,
      "outputs": []
    },
    {
      "cell_type": "code",
      "metadata": {
        "id": "0eYP1QHl7zsg",
        "colab_type": "code",
        "colab": {}
      },
      "source": [
        " def descend(initial_a,initial_b,x,y,learning_rate,iterations):\n",
        "    a=initial_a\n",
        "    b=initial_b\n",
        "    for i in range(iterations):\n",
        "       e=error(a,b,x,y)\n",
        "       if i % 1000 == 0:\n",
        "         print(f\"error:{e},a:{a},b:{b}\")\n",
        "       a,b = step_gradient(a,b,x,y,learning_rate)\n",
        "    return a,b\n",
        "\n",
        " "
      ],
      "execution_count": 0,
      "outputs": []
    },
    {
      "cell_type": "code",
      "metadata": {
        "id": "tq172Uk292rB",
        "colab_type": "code",
        "outputId": "1541cecc-6476-4588-b25b-76411a3703c5",
        "colab": {
          "base_uri": "https://localhost:8080/",
          "height": 193
        }
      },
      "source": [
        "a=0\n",
        "b=1\n",
        "learning_rate=0.001\n",
        "iterations=10000\n",
        "final_a,final_b= descend (a,b,x_train,y_train,learning_rate,iterations)"
      ],
      "execution_count": 0,
      "outputs": [
        {
          "output_type": "stream",
          "text": [
            "error:0.08691047391394598,a:0,b:1\n",
            "error:0.7185634532340691,a:-0.4687745091373329,b:0.33094474414707603\n",
            "error:1.080634437679907,a:-0.48431859025202206,b:0.06654802819106118\n",
            "error:1.0663724093363807,a:-0.371291424439531,b:-0.022377728445720474\n",
            "error:0.9504876689857888,a:-0.25023601248465754,b:-0.04144511497161464\n",
            "error:0.8443438106389621,a:-0.15629087501676306,b:-0.036657226051284714\n",
            "error:0.7700782086010297,a:-0.09256570306914372,b:-0.026459979822080107\n",
            "error:0.7232042380177983,a:-0.05259718971112017,b:-0.01724304676782663\n",
            "error:0.6951629823234996,a:-0.028851394208358572,b:-0.010528510512912691\n",
            "error:0.678985702296524,a:-0.015324362176829746,b:-0.006129398631561172\n"
          ],
          "name": "stdout"
        }
      ]
    },
    {
      "cell_type": "code",
      "metadata": {
        "id": "UeJ5ttKABttf",
        "colab_type": "code",
        "outputId": "fc6c729c-4f66-4e63-d8fd-eaea67ee1076",
        "colab": {
          "base_uri": "https://localhost:8080/",
          "height": 34
        }
      },
      "source": [
        "print(error(a,b,x_train,y_train))"
      ],
      "execution_count": 0,
      "outputs": [
        {
          "output_type": "stream",
          "text": [
            "0.08691047391394598\n"
          ],
          "name": "stdout"
        }
      ]
    },
    {
      "cell_type": "code",
      "metadata": {
        "id": "eGMx_q6nBy5s",
        "colab_type": "code",
        "outputId": "45123677-5f9b-49a4-f9e6-db53c135d2d2",
        "colab": {
          "base_uri": "https://localhost:8080/",
          "height": 34
        }
      },
      "source": [
        "print(error(final_a,final_b,x_train,y_train))"
      ],
      "execution_count": 0,
      "outputs": [
        {
          "output_type": "stream",
          "text": [
            "0.669930427348359\n"
          ],
          "name": "stdout"
        }
      ]
    },
    {
      "cell_type": "code",
      "metadata": {
        "id": "1uhqP2ySB-7t",
        "colab_type": "code",
        "outputId": "8d4d0021-67f0-4806-b8eb-039c045cdef5",
        "colab": {
          "base_uri": "https://localhost:8080/",
          "height": 282
        }
      },
      "source": [
        "plt.plot(x_train,y_train,'r.')"
      ],
      "execution_count": 0,
      "outputs": [
        {
          "output_type": "execute_result",
          "data": {
            "text/plain": [
              "[<matplotlib.lines.Line2D at 0x7f38a94e24a8>]"
            ]
          },
          "metadata": {
            "tags": []
          },
          "execution_count": 18
        },
        {
          "output_type": "display_data",
          "data": {
            "image/png": "[encoded data removed]",
            "text/plain": [
              "<Figure size 432x288 with 1 Axes>"
            ]
          },
          "metadata": {
            "tags": [],
            "needs_background": "light"
          }
        }
      ]
    },
    {
      "cell_type": "code",
      "metadata": {
        "id": "S40jKpwdC2RN",
        "colab_type": "code",
        "outputId": "caa60e5e-6a95-44d8-8389-4d617a26e71b",
        "colab": {
          "base_uri": "https://localhost:8080/",
          "height": 300
        }
      },
      "source": [
        "plt.plot(x_test,y_test,'r.',x_test,hypothesis(final_a,final_b,x_test),'g.')"
      ],
      "execution_count": 0,
      "outputs": [
        {
          "output_type": "execute_result",
          "data": {
            "text/plain": [
              "[<matplotlib.lines.Line2D at 0x7f38a94d4278>,\n",
              " <matplotlib.lines.Line2D at 0x7f38a94d4358>]"
            ]
          },
          "metadata": {
            "tags": []
          },
          "execution_count": 19
        },
        {
          "output_type": "display_data",
          "data": {
            "image/png": "[encoded data removed]",
            "text/plain": [
              "<Figure size 432x288 with 1 Axes>"
            ]
          },
          "metadata": {
            "tags": [],
            "needs_background": "light"
          }
        }
      ]
    }
  ]
}